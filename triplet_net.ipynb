{
  "nbformat": 4,
  "nbformat_minor": 0,
  "metadata": {
    "colab": {
      "name": "triplet_net.ipynb",
      "version": "0.3.2",
      "provenance": [],
      "include_colab_link": true
    },
    "kernelspec": {
      "name": "python3",
      "display_name": "Python 3"
    },
    "accelerator": "GPU"
  },
  "cells": [
    {
      "cell_type": "markdown",
      "metadata": {
        "id": "view-in-github",
        "colab_type": "text"
      },
      "source": [
        "<a href=\"https://colab.research.google.com/github/alexeyphilippov/ChartWindow/blob/master/triplet_net.ipynb\" target=\"_parent\"><img src=\"https://colab.research.google.com/assets/colab-badge.svg\" alt=\"Open In Colab\"/></a>"
      ]
    },
    {
      "cell_type": "code",
      "metadata": {
        "id": "sg_PgjP84HzI",
        "colab_type": "code",
        "colab": {
          "base_uri": "https://localhost:8080/",
          "height": 189
        },
        "outputId": "c338cff4-b731-4f77-c8b5-e12b192cae11"
      },
      "source": [
        "from google.colab import drive\n",
        "drive.mount('/content/drive')"
      ],
      "execution_count": 1,
      "outputs": [
        {
          "output_type": "stream",
          "text": [
            "Go to this URL in a browser: https://accounts.google.com/o/oauth2/auth?client_id=947318989803-6bn6qk8qdgf4n4g3pfee6491hc0brc4i.apps.googleusercontent.com&redirect_uri=urn%3Aietf%3Awg%3Aoauth%3A2.0%3Aoob&scope=email%20https%3A%2F%2Fwww.googleapis.com%2Fauth%2Fdocs.test%20https%3A%2F%2Fwww.googleapis.com%2Fauth%2Fdrive%20https%3A%2F%2Fwww.googleapis.com%2Fauth%2Fdrive.photos.readonly%20https%3A%2F%2Fwww.googleapis.com%2Fauth%2Fpeopleapi.readonly&response_type=code\n",
            "\n",
            "Enter your authorization code:\n",
            "··········\n",
            "Mounted at /content/drive\n"
          ],
          "name": "stdout"
        }
      ]
    },
    {
      "cell_type": "code",
      "metadata": {
        "id": "Tqp5f6gp6A8t",
        "colab_type": "code",
        "outputId": "9039b535-ce87-4563-a232-8aad9700c220",
        "colab": {
          "base_uri": "https://localhost:8080/",
          "height": 34
        }
      },
      "source": [
        "import torch\n",
        "if torch.cuda.is_available(): \n",
        "  print(\"Using GPU\")\n",
        "  torch.device('cuda')\n",
        "import pandas as pd\n",
        "import numpy as np\n",
        "import torch\n",
        "import torch.nn as nn\n",
        "from torch.nn.functional import cosine_similarity, relu, pairwise_distance\n",
        "from torch.nn import BatchNorm1d\n",
        "import torch.nn.functional as F\n",
        "\n",
        "import matplotlib.pyplot as plt\n",
        "import csv\n",
        "from sklearn.metrics import roc_auc_score\n",
        "\n",
        "PATH_FOR_DATA = \"drive/My Drive/Python_for_colab/image-name/csvs/local_csvs/data.csv\"\n",
        "PATH_FOR_TEST = \"drive/My Drive/Python_for_colab/image-name/csvs/local_csvs/data_test.csv\"\n",
        "PATH_FOR_TRAIN = \"drive/My Drive/Python_for_colab/image-name/csvs/local_csvs/data_train.csv\"\n",
        "PATH_FOR_TRIPLET = \"drive/My Drive/Python_for_colab/image-name/csvs/final_df_053000_triplet.csv\"\n",
        "PATH_TRIPLET_TRAIN = \"drive/My Drive/Python_for_colab/image-name/csvs/local_csvs/triplet_train.csv\"\n",
        "PATH_TRIPLET_TEST = \"drive/My Drive/Python_for_colab/image-name/csvs/local_csvs/triplet_test.csv\""
      ],
      "execution_count": 2,
      "outputs": [
        {
          "output_type": "stream",
          "text": [
            "Using GPU\n"
          ],
          "name": "stdout"
        }
      ]
    },
    {
      "cell_type": "code",
      "metadata": {
        "id": "F7RgoYH0azHF",
        "colab_type": "code",
        "colab": {}
      },
      "source": [
        ""
      ],
      "execution_count": 0,
      "outputs": []
    },
    {
      "cell_type": "code",
      "metadata": {
        "id": "3CI_a3c96Hg2",
        "colab_type": "code",
        "colab": {}
      },
      "source": [
        "class Batch_generator_triple():\n",
        "    def __init__(self, path, batch_size:int=128): #, isTrain:bool=True\n",
        "\n",
        "        self.path = path\n",
        "        self.batch_size = batch_size\n",
        "        \n",
        "    def get_gen(self):\n",
        "        with open(self.path, newline='') as csvfile:\n",
        "          reader = csv.reader(csvfile, delimiter=',')\n",
        "          k = 0\n",
        "          A_batch_list = []\n",
        "          P_batch_list = []\n",
        "          N_batch_list = []\n",
        "\n",
        "          for row in reader:\n",
        "              try:\n",
        "                  row = [float(s) for s in row]\n",
        "                  A_batch_list.append(row[:1000])\n",
        "                  P_batch_list.append(row[1000:1300])\n",
        "\n",
        "                  N_batch_list.append(row[1300:])\n",
        "                  k += 1\n",
        "                  if k == self.batch_size:\n",
        "                      k = 0 \n",
        "                      yield torch.tensor(A_batch_list).cuda(), torch.tensor(P_batch_list).cuda(),torch.tensor(N_batch_list).cuda()\n",
        "              except ValueError :\n",
        "                  pass\n",
        "              \n",
        "    def get_test_gen(self):\n",
        "      with open(self.path, newline='') as csvfile:\n",
        "        reader = csv.reader(csvfile, delimiter=',')\n",
        "        k = 0\n",
        "        Image_batch_list = []\n",
        "        Message_bach_list = []\n",
        "        Label_batch_list = []\n",
        "        for row in reader:\n",
        "          try:\n",
        "            row = [float(s) for s in row]\n",
        "            Image_batch_list.append(row[:1000])\n",
        "            Message_batch_list.append(row[1000:1300])\n",
        "            Labbel_batch_list.append(row[-1])\n",
        "            k += 1\n",
        "            if k == self.batch_size:\n",
        "              k = 0\n",
        "              yield torch.tensor(Image_batch_list).cuda(), torch.tensor(Message_batch_list).cuda(), torch.tensor(Labels_batch_list).cuda()\n",
        "\n",
        "          except ValueError:\n",
        "            pass"
      ],
      "execution_count": 0,
      "outputs": []
    },
    {
      "cell_type": "code",
      "metadata": {
        "id": "RPJ4duBL6Xo_",
        "colab_type": "code",
        "colab": {}
      },
      "source": [
        "\"\"\"\n",
        "Triplet loss\n",
        "Takes embeddings of an anchor sample, a positive sample and a negative sample\n",
        "\"\"\"\n",
        "\"\"\"     distance_positive = cosine_similarity(anchor, positive)\n",
        "        distance_negative = cosine_similarity(anchor, negative)\n",
        "\"\"\"\n",
        "class TripletLoss(nn.Module):\n",
        "\n",
        "  def __init__(self, margin=1):\n",
        "        super(TripletLoss, self).__init__()\n",
        "        self.margin = margin\n",
        "        \n",
        "  def forward(self, distance_positive, distance_negative, size_average=True): # anchor, positive, negative,\n",
        "\n",
        "        losses = F.relu(distance_positive - distance_negative + self.margin)\n",
        "        return losses.mean() if size_average else losses.sum()"
      ],
      "execution_count": 0,
      "outputs": []
    },
    {
      "cell_type": "code",
      "metadata": {
        "id": "8s7mVPlf6afj",
        "colab_type": "code",
        "colab": {}
      },
      "source": [
        "# from torch.nn.modules.loss import TripletMarginLoss\n",
        "class TripletNet(nn.Module):\n",
        "    def __init__(self):\n",
        "      \n",
        "        self.THRESHHOLD = 0\n",
        "        super(TripletNet, self).__init__()\n",
        "\n",
        "        self.A_layer = nn.Linear(1000, 100)\n",
        "\n",
        "        self.PN_layer = nn.Linear(300, 100)\n",
        "        \n",
        "        self.loss = TripletLoss()\n",
        "        \n",
        "\n",
        "    def forward(self, a, p, n): # dim a = 1000, dim p = 300, dim n = 300\n",
        "      \n",
        "        result = dict()\n",
        "        \n",
        "        a = self.A_layer(a)\n",
        "\n",
        "        p = self.PN_layer(p)\n",
        "\n",
        "        n = self.PN_layer(n)\n",
        "        \n",
        "        distance_positive = cosine_similarity(a, p)\n",
        "        distance_negative = cosine_similarity(a, n)\n",
        "        \n",
        "        triple_loss = self.loss(distance_positive=distance_positive,\n",
        "                                distance_negative=distance_negative)\n",
        "        \n",
        "        \n",
        "        result.update({\n",
        "            \"positive_dis\":distance_positive,\n",
        "            \"negative_dis\":distance_negative,\n",
        "            \"loss\":triple_loss\n",
        "        })\n",
        "\n",
        "        return result\n",
        "      \n",
        "    def predict(self, word, image): #dim word = 1000, dim image = 300\n",
        "      \n",
        "      word = self.A_layer(word)\n",
        "      image = self.PN_layer(image)\n",
        "      \n",
        "      distances = cosine_similarity(word, image)\n",
        "        \n",
        "      return distances\n",
        "  \n",
        "      \n",
        "      \n",
        "      "
      ],
      "execution_count": 0,
      "outputs": []
    },
    {
      "cell_type": "code",
      "metadata": {
        "id": "DnphzFUN6dmT",
        "colab_type": "code",
        "colab": {}
      },
      "source": [
        "class Triplet_Net_coach():\n",
        "    def __init__(self, net):\n",
        "      self._is_trained = False\n",
        "      self._net = net.cuda()\n",
        "        \n",
        "    def train(self, test_path, train_path, margin=1,):\n",
        "        self.train_path = train_path\n",
        "        self.test_path = test_path\n",
        "      \n",
        "      \n",
        "      # TRAIN : Anchor(image), Positive(message), Negative(message)\n",
        "      \n",
        "      \n",
        "        self._is_trained = True\n",
        "        self._optimizer = torch.optim.Adam(self._net.parameters())\n",
        "\n",
        "        self.epo = []\n",
        "        self.los_train = []\n",
        "        self.los_test = []\n",
        "\n",
        "        N_EPOCHS = 10\n",
        "        BATCH_SIZE = 128\n",
        "        for epoch in range(N_EPOCHS):\n",
        "            print(\"Epoch\",epoch,\"started\")\n",
        "\n",
        "            \n",
        "            #TRAIN\n",
        "            self._net.train()\n",
        "            \n",
        "            train_batch_gen = Batch_generator_triple(path=self.train_path)\n",
        "            batch_loss = []\n",
        "            for A, P, N in train_batch_gen.get_gen():\n",
        "\n",
        "                output = self._net(A, P, N)\n",
        "                loss_train = output[\"loss\"]\n",
        "\n",
        "                self._optimizer.zero_grad()\n",
        "                loss_train.backward()\n",
        "                self._optimizer.step()\n",
        "                \n",
        "                batch_loss.append(loss_train.item())\n",
        "\n",
        "            self.los_train.append(np.mean(batch_loss))\n",
        "\n",
        "      \n",
        "            #TEST\n",
        "            self._net.eval()\n",
        "            \n",
        "            test_batch_gen = Batch_generator_triple(path=self.test_path)\n",
        "            batch_loss = []\n",
        "            \n",
        "            for A, P, N in test_batch_gen.get_gen():\n",
        "\n",
        "                output = self._net(A, P, N)\n",
        "                loss_test = output[\"loss\"]\n",
        "                \n",
        "                batch_loss.append(loss_test.item())\n",
        "\n",
        "            self.los_test.append(np.mean(batch_loss))\n",
        "  \n",
        "            print(\"Epoch\", epoch)\n",
        "\n",
        "        return [self.epo, self.los_train, self.los_test]\n",
        "    \n",
        "    def get_training_plot(self):\n",
        "        if self._is_trained == False:\n",
        "            raise Exception('Call .train() method first.')\n",
        "        else:\n",
        "            _, ax = plt.subplots()\n",
        "            \n",
        "            min_len = min(len(self.los_train), len(self.los_test))\n",
        "            \n",
        "            los_train, los_test = self.los_train[:min_len], self.los_test[:min_len]\n",
        "            \n",
        "            ax.plot(range(min_len), los_train, label='train')\n",
        "            ax.plot(range(min_len), los_test, label='test')\n",
        "            \n",
        "            legend = ax.legend(loc='upper center', shadow=True,\n",
        "                               fontsize='x-large')\n",
        "    def get_net(self):\n",
        "        return self._net"
      ],
      "execution_count": 0,
      "outputs": []
    },
    {
      "cell_type": "code",
      "metadata": {
        "id": "D6axIdRi8etr",
        "colab_type": "code",
        "outputId": "8f7b8ea2-8a63-4d87-929a-89d32c62d6e2",
        "colab": {
          "base_uri": "https://localhost:8080/",
          "height": 357
        }
      },
      "source": [
        "model = TripletNet()\n",
        "coach = Triplet_Net_coach(net=model)\n",
        "res = coach.train(test_path=PATH_TRIPLET_TEST, train_path=PATH_TRIPLET_TRAIN)"
      ],
      "execution_count": 17,
      "outputs": [
        {
          "output_type": "stream",
          "text": [
            "Epoch 0 started\n",
            "Epoch 0\n",
            "Epoch 1 started\n",
            "Epoch 1\n",
            "Epoch 2 started\n",
            "Epoch 2\n",
            "Epoch 3 started\n",
            "Epoch 3\n",
            "Epoch 4 started\n",
            "Epoch 4\n",
            "Epoch 5 started\n",
            "Epoch 5\n",
            "Epoch 6 started\n",
            "Epoch 6\n",
            "Epoch 7 started\n",
            "Epoch 7\n",
            "Epoch 8 started\n",
            "Epoch 8\n",
            "Epoch 9 started\n",
            "Epoch 9\n"
          ],
          "name": "stdout"
        }
      ]
    },
    {
      "cell_type": "code",
      "metadata": {
        "id": "69hA5Ag_YNi1",
        "colab_type": "code",
        "colab": {
          "base_uri": "https://localhost:8080/",
          "height": 276
        },
        "outputId": "949938fd-02b6-455e-d22b-af8eaa67e3ea"
      },
      "source": [
        "coach.get_training_plot()"
      ],
      "execution_count": 18,
      "outputs": [
        {
          "output_type": "display_data",
          "data": {
            "image/png": "[encoded data removed]",
            "text/plain": [
              "<Figure size 432x288 with 1 Axes>"
            ]
          },
          "metadata": {
            "tags": []
          }
        }
      ]
    },
    {
      "cell_type": "code",
      "metadata": {
        "id": "97UtRV39z9wE",
        "colab_type": "code",
        "colab": {}
      },
      "source": [
        ""
      ],
      "execution_count": 0,
      "outputs": []
    }
  ]
}